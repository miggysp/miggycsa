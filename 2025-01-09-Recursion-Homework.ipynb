{
 "cells": [
  {
   "cell_type": "markdown",
   "metadata": {},
   "source": [
    "---\n",
    "layout: post\n",
    "title: FRQ  \n",
    "type: hacks\n",
    "comments: true\n",
    "permalink: /other/homework\n",
    "---"
   ]
  },
  {
   "cell_type": "markdown",
   "metadata": {},
   "source": [
    "# FRQ\n",
    "\n",
    "## Get Score Implementation "
   ]
  },
  {
   "cell_type": "code",
   "execution_count": 1,
   "metadata": {
    "vscode": {
     "languageId": "java"
    }
   },
   "outputs": [],
   "source": [
    "public int getScore() {\n",
    "    int score = 0;\n",
    "    \n",
    "    // Check if goals are reached for each level\n",
    "    boolean levelOneGoal = levelOne.goalReached();\n",
    "    boolean levelTwoGoal = levelTwo.goalReached();\n",
    "    boolean levelThreeGoal = levelThree.goalReached();\n",
    "\n",
    "    // Calculate points based on rules\n",
    "    if (levelOneGoal) {\n",
    "        score += levelOne.getPoints();\n",
    "    }\n",
    "    if (levelOneGoal && levelTwoGoal) {\n",
    "        score += levelTwo.getPoints();\n",
    "    }\n",
    "    if (levelOneGoal && levelTwoGoal && levelThreeGoal) {\n",
    "        score += levelThree.getPoints();\n",
    "    }\n",
    "\n",
    "    // If it's a bonus game, triple the score\n",
    "    if (isBonus()) {\n",
    "        score *= 3;\n",
    "    }\n",
    "    \n",
    "    return score;\n",
    "}\n"
   ]
  },
  {
   "cell_type": "markdown",
   "metadata": {},
   "source": [
    "## Part B: Trace Recursive Calls\n",
    "Trace the recursive calls for the method countWays with input 3. Show how the recursion reaches the base case and unwinds."
   ]
  },
  {
   "cell_type": "code",
   "execution_count": 2,
   "metadata": {
    "vscode": {
     "languageId": "java"
    }
   },
   "outputs": [],
   "source": [
    "public int playManyTimes(int num) {\n",
    "    int highestScore = 0;\n",
    "\n",
    "    for (int i = 0; i < num; i++) {\n",
    "        play(); // Simulate a game\n",
    "        int currentScore = getScore(); // Get the score of the current game\n",
    "        if (currentScore > highestScore) {\n",
    "            highestScore = currentScore;\n",
    "        }\n",
    "    }\n",
    "\n",
    "    return highestScore;\n",
    "}\n"
   ]
  },
  {
   "cell_type": "markdown",
   "metadata": {},
   "source": [
    "## Part B\n"
   ]
  },
  {
   "cell_type": "code",
   "execution_count": null,
   "metadata": {
    "vscode": {
     "languageId": "java"
    }
   },
   "outputs": [],
   "source": [
    "public int playManyTimes(int num) {\n",
    "    int highestScore = 0; // Initialize the highest score to 0\n",
    "\n",
    "    for (int i = 0; i < num; i++) {\n",
    "        play(); // Simulate the play of the game\n",
    "        int currentScore = getScore(); // Get the score from the current play\n",
    "        if (currentScore > highestScore) {\n",
    "            highestScore = currentScore; // Update the highest score if needed\n",
    "        }\n",
    "    }\n",
    "\n",
    "    return highestScore; // Return the highest score after all plays\n",
    "}\n"
   ]
  }
 ],
 "metadata": {
  "kernelspec": {
   "display_name": "Java",
   "language": "java",
   "name": "java"
  },
  "language_info": {
   "codemirror_mode": "java",
   "file_extension": ".jshell",
   "mimetype": "text/x-java-source",
   "name": "Java",
   "pygments_lexer": "java",
   "version": "17.0.13+11-Ubuntu-2ubuntu122.04"
  }
 },
 "nbformat": 4,
 "nbformat_minor": 2
}
