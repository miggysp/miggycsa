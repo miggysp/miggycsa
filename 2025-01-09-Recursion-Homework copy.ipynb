{
 "cells": [
  {
   "cell_type": "markdown",
   "metadata": {},
   "source": [
    "---\n",
    "layout: post\n",
    "title: Recursion Homework\n",
    "type: hacks\n",
    "comments: true\n",
    "permalink: /recursion/homework\n",
    "---"
   ]
  },
  {
   "cell_type": "markdown",
   "metadata": {},
   "source": [
    "# FRQ\n",
    "\n",
    "## Part A: Count Ways to Climb Stairs\n",
    "\n",
    "Write a recursive method countWays that calculates the total number of ways the person can climb a staircase with n steps.\n",
    "\n",
    "\n",
    "public int countWays(int n)"
   ]
  },
  {
   "cell_type": "code",
   "execution_count": 1,
   "metadata": {},
   "outputs": [
    {
     "data": {
      "text/plain": [
       "5"
      ]
     },
     "execution_count": 1,
     "metadata": {},
     "output_type": "execute_result"
    }
   ],
   "source": [
    "public int countWays(int n) {\n",
    "    \n",
    "    if (n == 0) { \n",
    "        return 1;\n",
    "    }\n",
    "\n",
    "    if (n < 0) { \n",
    "        return 0;\n",
    "    }\n",
    "    return countWays(n-1) + countWays(n-2);\n",
    "\n",
    "}\n",
    "\n",
    "countWays(4) // returns 5"
   ]
  },
  {
   "cell_type": "markdown",
   "metadata": {},
   "source": [
    "## Part B: Trace Recursive Calls\n",
    "Trace the recursive calls for the method countWays with input 3. Show how the recursion reaches the base case and unwinds."
   ]
  },
  {
   "cell_type": "markdown",
   "metadata": {},
   "source": [
    "Start with countWays(3):\n",
    "\n",
    "Calls countWays(2) and countWays(1).\n",
    "For countWays(2):\n",
    "\n",
    "Calls countWays(1) and countWays(0).\n",
    "countWays(1):\n",
    "Calls countWays(0) → 1, and countWays(-1) → 0.\n",
    "Result: 1 + 0 = 1.\n",
    "countWays(0) → 1.\n",
    "Result: 1 + 1 = 2.\n",
    "For countWays(1):\n",
    "\n",
    "Calls countWays(0) → 1, and countWays(-1) → 0.\n",
    "Result: 1 + 0 = 1.\n",
    "Combine for countWays(3):\n",
    "\n",
    "countWays(3) = countWays(2) + countWays(1) = 2 + 1 = 3."
   ]
  },
  {
   "cell_type": "markdown",
   "metadata": {},
   "source": [
    "TREE\n",
    "\n",
    "countWays(3)\n",
    "├── countWays(2) → 2\n",
    "│   ├── countWays(1) → 1\n",
    "│   ├── countWays(0) → 1\n",
    "├── countWays(1) → 1\n",
    "└── Result: 3\n"
   ]
  },
  {
   "cell_type": "markdown",
   "metadata": {},
   "source": [
    "## Part C:  Modify for Variable Steps\n",
    "\n",
    "Write a method countWaysVariableSteps that calculates the total number of ways the person can climb a staircase with n steps using the allowed step sizes."
   ]
  },
  {
   "cell_type": "code",
   "execution_count": 3,
   "metadata": {},
   "outputs": [
    {
     "data": {
      "text/plain": [
       "5"
      ]
     },
     "execution_count": 3,
     "metadata": {},
     "output_type": "execute_result"
    }
   ],
   "source": [
    "public int countWaysVariableSteps(int n, int[] steps) {\n",
    "\n",
    "    if (n == 0) {\n",
    "        return 1;\n",
    "    }   \n",
    "\n",
    "    if (n < 0) { \n",
    "        return 0;\n",
    "    }\n",
    "\n",
    "    int numOfWays = 0;\n",
    "    for(int i = 0; i < steps.length; i++) {\n",
    "        numOfWays += countWaysVariableSteps(n - steps[i], steps);\n",
    "    }\n",
    "\n",
    "    return numOfWays;\n",
    "}\n",
    "\n",
    "\n",
    "int[] steps = {1, 3, 5};\n",
    "countWaysVariableSteps(5, steps) // returns 5\n",
    "\n",
    "    "
   ]
  },
  {
   "cell_type": "markdown",
   "metadata": {},
   "source": [
    "MC\n",
    "\n",
    "1.\n",
    "The answer is 248832 (D) because the function keeps multiplying 12 for each recursive step, leading to \n",
    "12×12×12x12=248832\n",
    "\n",
    "2.\n",
    "The output is A. tHISISMYFAVORITEyAYFORPROGRAMMING because the function alternates the case of each character, converting uppercase letters to lowercase and lowercase letters to uppercase, skipping non-alphabetic characters.\n",
    "\n",
    "3.\n",
    "The correct answer is B. A condition that stops the recursion by returning a value. This ensures the recursion terminates and avoids infinite calls.\n",
    "\n",
    "\n",
    "\n",
    "\n",
    "\n",
    "\n",
    "\n",
    "\n",
    "\n",
    "\n",
    "\n"
   ]
  },
  {
   "cell_type": "markdown",
   "metadata": {},
   "source": [
    "# MC\n",
    "1. \n",
    "![img](https://private-user-images.githubusercontent.com/142525577/400660643-f2c57099-f393-4886-a785-467e8ac9a0c1.png?jwt=eyJhbGciOiJIUzI1NiIsInR5cCI6IkpXVCJ9.eyJpc3MiOiJnaXRodWIuY29tIiwiYXVkIjoicmF3LmdpdGh1YnVzZXJjb250ZW50LmNvbSIsImtleSI6ImtleTUiLCJleHAiOjE3MzY0MDc1OTYsIm5iZiI6MTczNjQwNzI5NiwicGF0aCI6Ii8xNDI1MjU1NzcvNDAwNjYwNjQzLWYyYzU3MDk5LWYzOTMtNDg4Ni1hNzg1LTQ2N2U4YWM5YTBjMS5wbmc_WC1BbXotQWxnb3JpdGhtPUFXUzQtSE1BQy1TSEEyNTYmWC1BbXotQ3JlZGVudGlhbD1BS0lBVkNPRFlMU0E1M1BRSzRaQSUyRjIwMjUwMTA5JTJGdXMtZWFzdC0xJTJGczMlMkZhd3M0X3JlcXVlc3QmWC1BbXotRGF0ZT0yMDI1MDEwOVQwNzIxMzZaJlgtQW16LUV4cGlyZXM9MzAwJlgtQW16LVNpZ25hdHVyZT03YzZkODQwODA5YzAzY2ExNGIxM2NhMDBiZjBjMWMxMmNkOTEwYjczZDA5MDBlMDg4ZWRjNTQxNzM0ZTk4NDExJlgtQW16LVNpZ25lZEhlYWRlcnM9aG9zdCJ9.yx9dqtpTRrZxfQ2o_rb-0r_nG-gGH5Bn8pyzDW5cCVg)\n",
    "\n",
    "A. 1728\n",
    "\n",
    "B. 104\n",
    "\n",
    "C. 48\n",
    "\n",
    "D. 248832\n",
    "\n",
    "E. 144\n",
    "\n",
    "Walkthrough:\n",
    "\n",
    "equation(8) splits down into:\n",
    "\n",
    "equation(6) * equation(7)\n",
    "\n",
    "which splits down into:\n",
    "\n",
    "equation(6):\n",
    "\n",
    "equation(4) * equation(5)\n",
    "\n",
    "equation(7):\n",
    "\n",
    "equation(6) * equation(5)\n",
    "\n",
    "equation 6 returns 144\n",
    "\n",
    "becuase we know equation 6 returns 144, and equation 5 returns 12,\n",
    "\n",
    "we can just multiply using what we know\n",
    "\n",
    "144 * (144 * 12) =  248832 = D.\n",
    "\n",
    "2. ![img](https://private-user-images.githubusercontent.com/142525577/400661305-8532c10e-be12-46fb-96a0-34244f0539e1.png?jwt=eyJhbGciOiJIUzI1NiIsInR5cCI6IkpXVCJ9.eyJpc3MiOiJnaXRodWIuY29tIiwiYXVkIjoicmF3LmdpdGh1YnVzZXJjb250ZW50LmNvbSIsImtleSI6ImtleTUiLCJleHAiOjE3MzY0MDc1OTYsIm5iZiI6MTczNjQwNzI5NiwicGF0aCI6Ii8xNDI1MjU1NzcvNDAwNjYxMzA1LTg1MzJjMTBlLWJlMTItNDZmYi05NmEwLTM0MjQ0ZjA1MzllMS5wbmc_WC1BbXotQWxnb3JpdGhtPUFXUzQtSE1BQy1TSEEyNTYmWC1BbXotQ3JlZGVudGlhbD1BS0lBVkNPRFlMU0E1M1BRSzRaQSUyRjIwMjUwMTA5JTJGdXMtZWFzdC0xJTJGczMlMkZhd3M0X3JlcXVlc3QmWC1BbXotRGF0ZT0yMDI1MDEwOVQwNzIxMzZaJlgtQW16LUV4cGlyZXM9MzAwJlgtQW16LVNpZ25hdHVyZT0xMTA2MWI4OTM4NGRkMjMzYTM1ZmE0Njg3OWVhODYyMDAxMTYxYTdlMWI1ZTlkMmY0Y2U2MjUzNWJiYjllNmYyJlgtQW16LVNpZ25lZEhlYWRlcnM9aG9zdCJ9.8Ai2RIbbygTPUmhhcZ4v0FB_1ADgm4fBR-V4ZeFUtXA)\n",
    "\n",
    "A. tHISISMYFAVORITEyAYFORPROGRAMMING\n",
    "\n",
    "B. tHIS IS MYFAVORITE\n",
    "\n",
    "C. ThIs iS mY fAvOriTe: YaY fOr PrOgRaMmIng!!!\n",
    "\n",
    "D. tHIS IS MY FAVORITE: yAY FOR PROGRAMMING!!!\n",
    "\n",
    "E. ThIs iS mY fAvOriTe\n",
    "\n",
    "Walkthrough: \n",
    "\n",
    "'T' → 't', 'h' → 'H', 'i' → 'I', 's' → 'S', ' ' → skip.\n",
    "\n",
    "'i' → 'I', 's' → 'S', ' ' → skip.\n",
    "\n",
    "'m' → 'M', 'y' → 'Y', ' ' → skip.\n",
    "\n",
    "'f' → 'F', 'a' → 'A', 'v' → 'V', 'o' → 'O', 'r' → 'R', 'i' → 'I', 't' → 'T', 'e' → 'E'.\n",
    "\n",
    "':' → skip, ' ' → skip.\n",
    "\n",
    "'Y' → 'y', 'a' → 'A', 'y' → 'Y', ' ' → skip.\n",
    "\n",
    "'f' → 'F', 'o' → 'O', 'r' → 'R', ' ' → skip.\n",
    "\n",
    "'p' → 'P', 'r' → 'R', 'o' → 'O', 'g' → 'G', 'r' → 'R', 'a' → 'A', 'm' → 'M', 'm' → 'M', 'i' → 'I', 'n' → 'N', 'g' → 'G'.\n",
    "\n",
    "'!' → skip.\n",
    "\n",
    "all in all: tHISISMYFAVORITEyAYFORPROGRAMMING\n",
    "\n",
    "A. tHISISMYFAVORITEyAYFORPROGRAMMING\n",
    "\n",
    "3. What is the base case in a recursive function?\n",
    "\n",
    "A. The first function call in a recursive chain.\n",
    "B. A condition that stops the recursion by returning a value.\n",
    "C. A recursive call that reduces the problem size.\n",
    "D. A function that calls itself indefinitely.\n",
    "\n",
    "B. A condition that stops the recursion by returning a value.\n",
    "\n",
    "The base case in a recursive function is used to stop the recursion by returning some value. For example, one base case in A of the frq we did was if (n==0). If n was 0, the function would return 1, and cease its recursion because a value was returned."
   ]
  }
 ],
 "metadata": {
  "kernelspec": {
   "display_name": "Java",
   "language": "java",
   "name": "java"
  },
  "language_info": {
   "codemirror_mode": "java",
   "file_extension": ".jshell",
   "mimetype": "text/x-java-source",
   "name": "java",
   "pygments_lexer": "java",
   "version": "17.0.12+7-Ubuntu-1ubuntu222.04"
  }
 },
 "nbformat": 4,
 "nbformat_minor": 2
}
