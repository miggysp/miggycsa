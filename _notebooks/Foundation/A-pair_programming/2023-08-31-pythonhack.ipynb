{
 "cells": [
  {
   "cell_type": "code",
   "execution_count": null,
   "metadata": {},
   "outputs": [],
   "source": [
    "import inspect\n",
    "from newspaper import Article\n",
    "from emoji import emojize\n",
    "\n",
    "# Inspect the newspaper Article class\n",
    "source_code = inspect.getsource(Article)\n",
    "\n",
    "# Print the inspected source code with emoji flair\n",
    "print(emojize(\":mag: Inspecting the Article class... :sparkles:\"))\n",
    "print(source_code)\n",
    "print(emojize(\":thumbs_up: Done inspecting! :grinning_face_with_smiling_eyes: Python is awesome! :snake:\"))\n"
   ]
  }
 ],
 "metadata": {
  "language_info": {
   "name": "python"
  }
 },
 "nbformat": 4,
 "nbformat_minor": 2
}
