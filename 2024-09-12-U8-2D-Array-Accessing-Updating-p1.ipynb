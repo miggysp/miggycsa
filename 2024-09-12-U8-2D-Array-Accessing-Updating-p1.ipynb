{
 "cells": [
  {
   "cell_type": "raw",
   "metadata": {
    "vscode": {
     "languageId": "raw"
    }
   },
   "source": [
    "---\n",
    "layout: post\n",
    "toc: true\n",
    "title: Unit 8 - 2D Arrays Accessing and Updating\n",
    "description: 2D Arrays Lesson\n",
    "authors: Anusha Khobare\n",
    "categories: [AP CSA]\n",
    "type: ccc\n",
    "permalink: /unit8lesson-p1-accessing-updating\n",
    "menu: nav/CSA_Units/csa_unit8_p1.html\n",
    "---"
   ]
  },
  {
   "cell_type": "markdown",
   "metadata": {},
   "source": [
    "## Accessing and updating the values of a 2D array\n",
    "In Java, accessing and updating values in a 2D array is done using the row and column indices. The general format is:\n",
    "\n",
    "~~~\n",
    "- **Accessing a value**: array[row][column]\n",
    "- **Updating a value**: array[row][column] = newValue;\n",
    "~~~\n",
    "\n",
    "![image](https://github.com/user-attachments/assets/b1f79b97-f81b-4ea5-951d-5c098fae0767)\n"
   ]
  },
  {
   "cell_type": "markdown",
   "metadata": {},
   "source": [
    "### Popcorn Hack 1 (Part 2)\n",
    "- **Update the values of the array, you made in part 1 to the group members in another group**"
   ]
  },
  {
   "cell_type": "raw",
   "metadata": {
    "vscode": {
     "languageId": "raw"
    }
   },
   "source": [
    "public class Main {\n",
    "    public static void main(String[] args) {\n",
    "\n",
    "        // Method 1: Direct Initialization\n",
    "        String[][] myArray1 = {\n",
    "            {\"Miheer\", \"Beijan\"},\n",
    "            {\"Eshaan\", \"Aneesha\"}\n",
    "        };\n",
    "\n",
    "        // Display original array\n",
    "        System.out.println(\"Original Array:\");\n",
    "        displayArray(myArray1);\n",
    "\n",
    "        // Update the values to new group members\n",
    "        myArray1[0][0] = \"Anusha\";   // Update Miheer to Anusha\n",
    "        myArray1[0][1] = \"Vibha\";    // Update Beijan to Vibha\n",
    "        myArray1[1][0] = \"Avanthika\";// Update Eshaan to Avanthika\n",
    "        myArray1[1][1] = \"Matthew\";  // Update Aneesha to Matthew\n",
    "\n",
    "        // Display updated array\n",
    "        System.out.println(\"\\nUpdated Array:\");\n",
    "        displayArray(myArray1);\n",
    "    }\n",
    "\n",
    "    public static void displayArray(String[][] myArray1) {\n",
    "        for(int i = 0; i < myArray1.length; i++) {\n",
    "            for (int j = 0; j < myArray1[i].length; j++) {\n",
    "                System.out.print(myArray1[i][j] + \" \");\n",
    "            }\n",
    "            System.out.println();\n",
    "        }\n",
    "    }\n",
    "}\n",
    "\n",
    "Main.main(null);\n"
   ]
  }
 ],
 "metadata": {
  "kernelspec": {
   "display_name": "Java",
   "language": "java",
   "name": "java"
  },
  "language_info": {
   "codemirror_mode": "java",
   "file_extension": ".jshell",
   "mimetype": "text/x-java-source",
   "name": "Java",
   "pygments_lexer": "java",
   "version": "17.0.12+7-Ubuntu-1ubuntu222.04"
  },
  "orig_nbformat": 4
 },
 "nbformat": 4,
 "nbformat_minor": 2
}
