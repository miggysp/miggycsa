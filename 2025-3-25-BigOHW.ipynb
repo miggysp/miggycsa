{
 "cells": [
  {
   "cell_type": "markdown",
   "metadata": {},
   "source": [
    "---\n",
    "layout: post\n",
    "title: Calculator Team Teach HW\n",
    "courses: {'csa': {'week': 6}}\n",
    "comments: true\n",
    "type: ccc\n",
    "permalink: /CalculatorHW\n",
    "---"
   ]
  },
  {
   "cell_type": "code",
   "execution_count": 2,
   "metadata": {
    "vscode": {
     "languageId": "java"
    }
   },
   "outputs": [
    {
     "name": "stdout",
     "output_type": "stream",
     "text": [
      "Enter a prefix expression (e.g., * 3 5):\n",
      "Result: 24.0\n"
     ]
    }
   ],
   "source": [
    "import java.util.Stack;\n",
    "import java.util.Scanner;\n",
    "\n",
    "public class PrefixCalculator {\n",
    "\n",
    "    public static double evaluatePrefix(String expression) {\n",
    "        String[] tokens = expression.trim().split(\"\\\\s+\");\n",
    "        Stack<Double> stack = new Stack<>();\n",
    "\n",
    "        // Traverse from right to left\n",
    "        for (int i = tokens.length - 1; i >= 0; i--) {\n",
    "            String token = tokens[i];\n",
    "\n",
    "            if (isOperator(token)) {\n",
    "                // Pop two operands\n",
    "                double operand1 = stack.pop();\n",
    "                double operand2 = stack.pop();\n",
    "                double result = applyOperator(token, operand1, operand2);\n",
    "                stack.push(result);\n",
    "            } else {\n",
    "                // Push number\n",
    "                stack.push(Double.parseDouble(token));\n",
    "            }\n",
    "        }\n",
    "\n",
    "        return stack.pop(); // Final result\n",
    "    }\n",
    "\n",
    "    private static boolean isOperator(String token) {\n",
    "        return \"+-*/\".contains(token);\n",
    "    }\n",
    "\n",
    "    private static double applyOperator(String operator, double a, double b) {\n",
    "        switch (operator) {\n",
    "            case \"+\": return a + b;\n",
    "            case \"-\": return a - b;\n",
    "            case \"*\": return a * b;\n",
    "            case \"/\": return a / b;\n",
    "            default: throw new IllegalArgumentException(\"Unknown operator: \" + operator);\n",
    "        }\n",
    "    }\n",
    "\n",
    "    public static void main(String[] args) {\n",
    "        Scanner scanner = new Scanner(System.in);\n",
    "        System.out.println(\"Enter a prefix expression (e.g., * 3 5):\");\n",
    "        String input = scanner.nextLine();\n",
    "        double result = evaluatePrefix(input);\n",
    "        System.out.println(\"Result: \" + result);\n",
    "    }\n",
    "}\n",
    "PrefixCalculator.main(null)"
   ]
  }
 ],
 "metadata": {
  "kernelspec": {
   "display_name": "Java",
   "language": "java",
   "name": "java"
  },
  "language_info": {
   "codemirror_mode": "java",
   "file_extension": ".jshell",
   "mimetype": "text/x-java-source",
   "name": "Java",
   "pygments_lexer": "java",
   "version": "17.0.12+7"
  }
 },
 "nbformat": 4,
 "nbformat_minor": 2
}
